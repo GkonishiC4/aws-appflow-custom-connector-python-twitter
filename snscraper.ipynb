{
 "cells": [
  {
   "cell_type": "code",
   "execution_count": 4,
   "metadata": {},
   "outputs": [],
   "source": [
    "import pandas as pd\n",
    "import snscrape.modules.twitter as sntwitter\n"
   ]
  },
  {
   "cell_type": "code",
   "execution_count": 25,
   "metadata": {},
   "outputs": [
    {
     "name": "stderr",
     "output_type": "stream",
     "text": [
      "C:\\Users\\guilherme.yoshihara\\AppData\\Local\\Temp\\ipykernel_18348\\4164027581.py:7: DeprecatedFeatureWarning: username is deprecated, use user.username instead\n",
      "  Tlist.append([tweet.date, tweet.username, tweet.content, tweet.lang])\n",
      "C:\\Users\\guilherme.yoshihara\\AppData\\Local\\Temp\\ipykernel_18348\\4164027581.py:7: DeprecatedFeatureWarning: content is deprecated, use rawContent instead\n",
      "  Tlist.append([tweet.date, tweet.username, tweet.content, tweet.lang])\n"
     ]
    }
   ],
   "source": [
    "maxTweets = 100\n",
    "i = 0\n",
    "Tlist = []\n",
    "for tweet in sntwitter.TwitterSearchScraper('ucrania since:2023-03-19 until:2023-03-20').get_items():\n",
    "    if i > maxTweets:\n",
    "        break\n",
    "    Tlist.append([tweet.date, tweet.username, tweet.content, tweet.lang])\n",
    "    i = i + 1\n"
   ]
  },
  {
   "cell_type": "code",
   "execution_count": 29,
   "metadata": {},
   "outputs": [],
   "source": [
    "dfTweeet = pd.DataFrame(Tlist, columns=['date', 'username', 'content','lang'])\n",
    "dfTweeet.to_json('test43123333.json', orient='records')\n"
   ]
  },
  {
   "cell_type": "code",
   "execution_count": 31,
   "metadata": {},
   "outputs": [
    {
     "name": "stdout",
     "output_type": "stream",
     "text": [
      "                                                 Texto    Sentimento\n",
      "0    Las últimas noticias no son demasiado prometed...  Insatisfeito\n",
      "1                        @chefdangalhardo Ah, foda se.  Insatisfeito\n",
      "2    Las sanciones incluyen la congelación de los a...  Insatisfeito\n",
      "3    Ucrania emitió sanciones a más de 400 personas...  Insatisfeito\n",
      "4    @cumpariente Pero como va a tocar la flauta pa...  Insatisfeito\n",
      "..                                                 ...           ...\n",
      "96   @apcarreira7 @pedroml \"O povo está do lado da ...  Insatisfeito\n",
      "97   @SerbinPont Me encanta como lo deliran en los ...  Insatisfeito\n",
      "98   Essa hora o Putin da dando msg pro ténico do M...  Insatisfeito\n",
      "99   El presidente de Rusia , Vladímir Putin, afirm...  Insatisfeito\n",
      "100  Vientos de nueva guerra cerca a Ucrania -  Aze...  Insatisfeito\n",
      "\n",
      "[101 rows x 2 columns]\n"
     ]
    }
   ],
   "source": [
    "import json\n",
    "from textblob import TextBlob\n",
    "import pandas as pd\n",
    "import re\n",
    "\n",
    "# função para remover emojis usando regex\n",
    "def remove_emojis(texto):\n",
    "    emoji_pattern = re.compile(\"[\"\n",
    "        u\"\\U0001F600-\\U0001F64F\"  # emojis de rosto\n",
    "        u\"\\U0001F300-\\U0001F5FF\"  # emojis de símbolos e objetos\n",
    "        u\"\\U0001F680-\\U0001F6FF\"  # emojis de transportes e mapas\n",
    "        u\"\\U0001F1E0-\\U0001F1FF\"  # bandeiras de países\n",
    "    \"]+\", flags=re.UNICODE)\n",
    "    return emoji_pattern.sub(r'', texto)\n",
    "\n",
    "# abrir o arquivo JSON e carregar os dados em um dataframe\n",
    "with open('test43123333.json', 'r') as arquivo:\n",
    "    dados = json.load(arquivo)\n",
    "\n",
    "df = pd.DataFrame(dados)\n",
    "\n",
    "# remover emojis da coluna 'texto'\n",
    "df['texto_sem_emoji'] = df['content'].apply(remove_emojis)\n",
    "\n",
    "# criar uma lista para armazenar os resultados\n",
    "resultados = []\n",
    "\n",
    "# percorrer cada texto no dataframe e analisar o sentimento\n",
    "for texto in df['texto_sem_emoji']:\n",
    "    blob = TextBlob(texto)\n",
    "    sentimento = blob.sentiment.polarity\n",
    "    \n",
    "    # definir limites para cada categoria de sentimento\n",
    "    limite_5 = 0.7\n",
    "    limite_4 = 0.4\n",
    "    limite_3 = 0.1\n",
    "    limite_2 = -0.4\n",
    "    limite_1 = -0.7\n",
    "    \n",
    "    # comparar a pontuação de sentimento com os limites e adicionar o resultado à lista\n",
    "    if sentimento >= limite_5:\n",
    "        categoria = \"Muito satisfeito\"\n",
    "    elif sentimento >= limite_4:\n",
    "        categoria = \"Satisfeito\"\n",
    "    elif sentimento >= limite_3:\n",
    "        categoria = \"Neutro\"\n",
    "    elif sentimento >= limite_2:\n",
    "        categoria = \"Insatisfeito\"\n",
    "    elif sentimento >= limite_1:\n",
    "        categoria = \"Muito insatisfeito\"\n",
    "    else:\n",
    "        categoria = \"N/D\"\n",
    "    \n",
    "    resultados.append({'Texto': texto, 'Sentimento': categoria})\n",
    "\n",
    "# criar um DataFrame a partir da lista de resultados e exibi-lo\n",
    "df_resultados = pd.DataFrame(resultados)\n",
    "print(df_resultados)\n",
    "\n",
    "\n"
   ]
  }
 ],
 "metadata": {
  "kernelspec": {
   "display_name": "venv",
   "language": "python",
   "name": "python3"
  },
  "language_info": {
   "codemirror_mode": {
    "name": "ipython",
    "version": 3
   },
   "file_extension": ".py",
   "mimetype": "text/x-python",
   "name": "python",
   "nbconvert_exporter": "python",
   "pygments_lexer": "ipython3",
   "version": "3.11.0"
  },
  "orig_nbformat": 4
 },
 "nbformat": 4,
 "nbformat_minor": 2
}
